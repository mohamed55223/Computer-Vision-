{
 "cells": [
  {
   "cell_type": "code",
   "execution_count": 4,
   "id": "c726057d",
   "metadata": {},
   "outputs": [
    {
     "name": "stdout",
     "output_type": "stream",
     "text": [
      "Decoded(data=b'mohamed amr mandor _AI', type='QRCODE', rect=Rect(left=25, top=25, width=149, height=149), polygon=[Point(x=25, y=25), Point(x=25, y=173), Point(x=174, y=174), Point(x=173, y=25)])\n",
      "==========================\n",
      "Type:  QRCODE\n",
      "Data:  b'mohamed amr mandor _AI' \n",
      "\n"
     ]
    }
   ],
   "source": [
    "import cv2\n",
    "import pyzbar.pyzbar as pyzbar\n",
    "img = cv2.imread(\"qrcode.63573488.png\")\n",
    "decodedobjects = pyzbar.decode(img)\n",
    "for obj in decodedobjects:\n",
    "    print(obj)\n",
    "    print(\"==========================\")\n",
    "    print(\"Type: \",obj.type)\n",
    "    print(\"Data: \",obj.data,\"\\n\")\n",
    "    img = cv2.imshow(\"image\",img)\n",
    "cv2.waitKey(0)\n",
    "cv2.destroyAllWindows()"
   ]
  },
  {
   "cell_type": "code",
   "execution_count": null,
   "id": "bf09e58c",
   "metadata": {},
   "outputs": [],
   "source": []
  }
 ],
 "metadata": {
  "kernelspec": {
   "display_name": "Python 3 (ipykernel)",
   "language": "python",
   "name": "python3"
  },
  "language_info": {
   "codemirror_mode": {
    "name": "ipython",
    "version": 3
   },
   "file_extension": ".py",
   "mimetype": "text/x-python",
   "name": "python",
   "nbconvert_exporter": "python",
   "pygments_lexer": "ipython3",
   "version": "3.8.8"
  }
 },
 "nbformat": 4,
 "nbformat_minor": 5
}
